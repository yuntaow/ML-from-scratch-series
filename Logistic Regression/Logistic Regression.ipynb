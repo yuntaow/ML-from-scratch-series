{
 "cells": [
  {
   "cell_type": "code",
   "execution_count": 214,
   "metadata": {},
   "outputs": [],
   "source": [
    "import numpy as np \n",
    "import matplotlib.pyplot as plt\n",
    "from sklearn.datasets.samples_generator import make_blobs\n",
    "%matplotlib inline\n",
    "import plotly.plotly as py \n",
    "import plotly.graph_objs as go \n",
    "import plotly\n",
    "from pprint import pprint\n",
    "from plotly.graph_objs import *"
   ]
  },
  {
   "cell_type": "code",
   "execution_count": 88,
   "metadata": {},
   "outputs": [],
   "source": [
    "plotly.tools.set_credentials_file(username='TimothyWang', api_key='a3anSQbY5xlJKgENDCHd')"
   ]
  },
  {
   "cell_type": "code",
   "execution_count": 38,
   "metadata": {},
   "outputs": [],
   "source": [
    "num_observation = 1000\n",
    "random_seed = 888"
   ]
  },
  {
   "cell_type": "code",
   "execution_count": 114,
   "metadata": {},
   "outputs": [],
   "source": [
    "X, Classes = make_blobs(n_samples= 500, centers=2,cluster_std = 1.9, n_features=3,random_state=random_seed)\n"
   ]
  },
  {
   "cell_type": "code",
   "execution_count": 115,
   "metadata": {},
   "outputs": [],
   "source": [
    "x,y,z = zip(*X)"
   ]
  },
  {
   "cell_type": "code",
   "execution_count": 116,
   "metadata": {},
   "outputs": [],
   "source": [
    "trace = go.Scatter3d(\n",
    "    x=x,\n",
    "    y=y,\n",
    "    z=z,\n",
    "    mode=\"markers\",\n",
    "    marker=dict(\n",
    "        size= 10,\n",
    "        color= Classes,\n",
    "        line=dict(\n",
    "            width=1,\n",
    "            color= \"rgb(255,255,255)\",\n",
    "        ),\n",
    "        opacity=0.8\n",
    "    )\n",
    ")"
   ]
  },
  {
   "cell_type": "code",
   "execution_count": 117,
   "metadata": {},
   "outputs": [],
   "source": [
    "layout = go.Layout(\n",
    "    margin=dict(\n",
    "        l=0,\n",
    "        r=0,\n",
    "        b=0,\n",
    "        t=0\n",
    "    )\n",
    ")"
   ]
  },
  {
   "cell_type": "code",
   "execution_count": 118,
   "metadata": {},
   "outputs": [],
   "source": [
    "fig = go.Figure(data=[trace], layout=layout)"
   ]
  },
  {
   "cell_type": "code",
   "execution_count": 119,
   "metadata": {},
   "outputs": [
    {
     "data": {
      "text/html": [
       "<iframe id=\"igraph\" scrolling=\"no\" style=\"border:none;\" seamless=\"seamless\" src=\"https://plot.ly/~TimothyWang/2.embed\" height=\"525px\" width=\"100%\"></iframe>"
      ],
      "text/plain": [
       "<plotly.tools.PlotlyDisplay object>"
      ]
     },
     "execution_count": 119,
     "metadata": {},
     "output_type": "execute_result"
    }
   ],
   "source": [
    "py.iplot(fig, filename='logistic dataset')"
   ]
  },
  {
   "cell_type": "code",
   "execution_count": 121,
   "metadata": {},
   "outputs": [
    {
     "data": {
      "text/plain": [
       "(500, 3)"
      ]
     },
     "execution_count": 121,
     "metadata": {},
     "output_type": "execute_result"
    }
   ],
   "source": [
    "X.shape"
   ]
  },
  {
   "cell_type": "markdown",
   "metadata": {},
   "source": [
    "## Issues with linear regression for classification tasks\n",
    "reference: https://www.youtube.com/watch?v=-la3q9d7AKQ\n",
    "![title](linear.png)"
   ]
  },
  {
   "cell_type": "markdown",
   "metadata": {},
   "source": [
    "1. easily influenced by outliers\n",
    "2. produced outputs that can be > 1 or < 0"
   ]
  },
  {
   "cell_type": "markdown",
   "metadata": {},
   "source": [
    "![title](cost.png)"
   ]
  },
  {
   "cell_type": "markdown",
   "metadata": {},
   "source": [
    "![title](convex.png)"
   ]
  },
  {
   "cell_type": "markdown",
   "metadata": {},
   "source": [
    "![title](error.png)"
   ]
  },
  {
   "cell_type": "markdown",
   "metadata": {},
   "source": [
    "![title](calculus.png)"
   ]
  },
  {
   "cell_type": "markdown",
   "metadata": {},
   "source": [
    "#### the aboved equations are not regularized"
   ]
  },
  {
   "cell_type": "markdown",
   "metadata": {},
   "source": [
    "## logistic regression (named regression but it is an classification algo)"
   ]
  },
  {
   "cell_type": "code",
   "execution_count": 124,
   "metadata": {},
   "outputs": [],
   "source": [
    "def sigmoid(z):\n",
    "    return 1 / (1+np.exp(-z))"
   ]
  },
  {
   "cell_type": "code",
   "execution_count": 153,
   "metadata": {},
   "outputs": [],
   "source": [
    "def cost_with_reg(theta, x, y, hyper_lambda=0.001):\n",
    "    ## regularisation is applied for preventing overfitting\n",
    "    r = np.dot(x, theta)\n",
    "    pred = sigmoid(r)\n",
    "    m = len(y)    # prepared for batch \n",
    "    ## penalises higher dimension\n",
    "    o = (1 / m) * (-y.T.dot(np.log(pred)) - (1 - y).T.dot(np.log(1 - pred))) + (hyper_lambda/(2 * m)) * np.sum(theta**2)\n",
    "    return o"
   ]
  },
  {
   "cell_type": "code",
   "execution_count": 159,
   "metadata": {},
   "outputs": [],
   "source": [
    "def gradient_descent(theta, x, y, hyper_lambda= 0.001):\n",
    "    rows, cols = x.shape\n",
    "    theta = theta.reshape((cols, 1))\n",
    "    y = y.reshape((rows,1))\n",
    "    h = sigmoid(x.dot(theta))\n",
    "    return ((1 / rows) * X.T.dot(h - y)) + hyper_lambda * theta/rows\n",
    "    "
   ]
  },
  {
   "cell_type": "code",
   "execution_count": 274,
   "metadata": {},
   "outputs": [],
   "source": [
    "def logistic_regression(x,y):\n",
    "    '''\n",
    "        Since this is just an exercise and the code is not intended to be \n",
    "        resued, I does not follow an object-oriented design. Thus,\n",
    "        learning-rate, bias, initial-weights vectors and etc are assigned \n",
    "        directly and arbitrarily.\n",
    "    '''  \n",
    "    weights = np.zeros(X.shape[1])\n",
    "    loss_hist = []\n",
    "    for i in range(1000):\n",
    "        z = np.dot(X, weights)\n",
    "        A = sigmoid(z)\n",
    "        loss = cost_with_reg(weights, X, Classes)\n",
    "        loss_hist.append(loss)\n",
    "        g = gradient_descent(weights, X, Classes)\n",
    "        weights -= 0.01 * g.reshape(-1)\n",
    "    plt.plot(loss_hist)\n",
    "    plt.title(\"loss of logistic regression\")\n",
    "    return weights"
   ]
  },
  {
   "cell_type": "markdown",
   "metadata": {},
   "source": [
    "### demonstates loss history"
   ]
  },
  {
   "cell_type": "code",
   "execution_count": 275,
   "metadata": {},
   "outputs": [
    {
     "data": {
      "image/png": "[encoded data removed]",
      "text/plain": [
       "<matplotlib.figure.Figure at 0x1a1d5fcf98>"
      ]
     },
     "metadata": {},
     "output_type": "display_data"
    }
   ],
   "source": [
    "weights = logistic_regreesion(X,Classes)"
   ]
  },
  {
   "cell_type": "markdown",
   "metadata": {},
   "source": [
    "## Accuracy "
   ]
  },
  {
   "cell_type": "code",
   "execution_count": 276,
   "metadata": {},
   "outputs": [
    {
     "data": {
      "text/plain": [
       "0.996"
      ]
     },
     "execution_count": 276,
     "metadata": {},
     "output_type": "execute_result"
    }
   ],
   "source": [
    "prediction = sigmoid(np.dot(X, weights))\n",
    "threshold = 0.5\n",
    "pred = []\n",
    "for a in prediction:\n",
    "    if a > threshold:\n",
    "        pred.append(1)\n",
    "    else:\n",
    "        pred.append(0)\n",
    "sum([1 for a in zip(pred, Classes) if a[0] == a[1]]) / len(Classes)"
   ]
  },
  {
   "cell_type": "markdown",
   "metadata": {},
   "source": [
    "# End"
   ]
  }
 ],
 "metadata": {
  "kernelspec": {
   "display_name": "Python 3",
   "language": "python",
   "name": "python3"
  },
  "language_info": {
   "codemirror_mode": {
    "name": "ipython",
    "version": 3
   },
   "file_extension": ".py",
   "mimetype": "text/x-python",
   "name": "python",
   "nbconvert_exporter": "python",
   "pygments_lexer": "ipython3",
   "version": "3.6.4"
  }
 },
 "nbformat": 4,
 "nbformat_minor": 2
}
